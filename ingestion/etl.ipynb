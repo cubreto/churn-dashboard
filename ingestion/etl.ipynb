{
 "cells": [
  {
   "cell_type": "markdown",
   "metadata": {},
   "source": [
    "# Hive ingestion\n",
    "\n",
    "Ingest data into Hive tables."
   ]
  },
  {
   "cell_type": "code",
   "execution_count": null,
   "metadata": {
    "collapsed": false
   },
   "outputs": [],
   "source": [
    "spark.sql('use hackathon')\n",
    "\n",
    "features = spark.read.csv('/tmp/features.csv', header=True, inferSchema=True)\n",
    "features.printSchema()\n",
    "features.write.saveAsTable(\"hackathon.features\")\n",
    "\n",
    "target = spark.read.csv('/tmp/target.csv', header=True, inferSchema=True)\n",
    "target.printSchema()\n",
    "target.write.saveAsTable(\"hackathon.target\")"
   ]
  },
  {
   "cell_type": "markdown",
   "metadata": {},
   "source": [
    "# Group and Join\n",
    "\n",
    "Grouping data and then joining with target to produce churn data."
   ]
  },
  {
   "cell_type": "code",
   "execution_count": 2,
   "metadata": {
    "collapsed": false
   },
   "outputs": [
    {
     "data": {
      "text/plain": [
       "['user_account_id',\n",
       " 'user_lifetime',\n",
       " 'user_intake',\n",
       " 'user_no_outgoing_activity_in_days',\n",
       " 'user_account_balance_last',\n",
       " 'user_spendings',\n",
       " 'user_has_outgoing_calls',\n",
       " 'user_has_outgoing_sms',\n",
       " 'user_use_gprs',\n",
       " 'user_does_reload',\n",
       " 'reloads_inactive_days',\n",
       " 'reloads_count',\n",
       " 'reloads_sum',\n",
       " 'calls_outgoing_count',\n",
       " 'calls_outgoing_spendings',\n",
       " 'calls_outgoing_duration',\n",
       " 'calls_outgoing_spendings_max',\n",
       " 'calls_outgoing_duration_max',\n",
       " 'calls_outgoing_inactive_days',\n",
       " 'calls_outgoing_to_onnet_count',\n",
       " 'calls_outgoing_to_onnet_spendings',\n",
       " 'calls_outgoing_to_onnet_duration',\n",
       " 'calls_outgoing_to_onnet_inactive_days',\n",
       " 'calls_outgoing_to_offnet_count',\n",
       " 'calls_outgoing_to_offnet_spendings',\n",
       " 'calls_outgoing_to_offnet_duration',\n",
       " 'calls_outgoing_to_offnet_inactive_days',\n",
       " 'calls_outgoing_to_abroad_count',\n",
       " 'calls_outgoing_to_abroad_spendings',\n",
       " 'calls_outgoing_to_abroad_duration',\n",
       " 'calls_outgoing_to_abroad_inactive_days',\n",
       " 'sms_outgoing_count',\n",
       " 'sms_outgoing_spendings',\n",
       " 'sms_outgoing_spendings_max',\n",
       " 'sms_outgoing_inactive_days',\n",
       " 'sms_outgoing_to_onnet_count',\n",
       " 'sms_outgoing_to_onnet_spendings',\n",
       " 'sms_outgoing_to_onnet_inactive_days',\n",
       " 'sms_outgoing_to_offnet_count',\n",
       " 'sms_outgoing_to_offnet_spendings',\n",
       " 'sms_outgoing_to_offnet_inactive_days',\n",
       " 'sms_outgoing_to_abroad_count',\n",
       " 'sms_outgoing_to_abroad_spendings',\n",
       " 'sms_outgoing_to_abroad_inactive_days',\n",
       " 'sms_incoming_count',\n",
       " 'sms_incoming_spendings',\n",
       " 'sms_incoming_from_abroad_count',\n",
       " 'sms_incoming_from_abroad_spendings',\n",
       " 'gprs_session_count',\n",
       " 'gprs_usage',\n",
       " 'gprs_spendings',\n",
       " 'gprs_inactive_days',\n",
       " 'last_100_reloads_count',\n",
       " 'last_100_reloads_sum',\n",
       " 'last_100_calls_outgoing_duration',\n",
       " 'last_100_calls_outgoing_to_onnet_duration',\n",
       " 'last_100_calls_outgoing_to_offnet_duration',\n",
       " 'last_100_calls_outgoing_to_abroad_duration',\n",
       " 'last_100_sms_outgoing_count',\n",
       " 'last_100_sms_outgoing_to_onnet_count',\n",
       " 'last_100_sms_outgoing_to_offnet_count',\n",
       " 'last_100_sms_outgoing_to_abroad_count',\n",
       " 'last_100_gprs_usage']"
      ]
     },
     "execution_count": 2,
     "metadata": {},
     "output_type": "execute_result"
    }
   ],
   "source": [
    "spark.sql('use hackathon')\n",
    "features = sqlContext.sql('select * from features')\n",
    "features_colnames = features.schema.names[2:]\n",
    "features_colnames"
   ]
  },
  {
   "cell_type": "code",
   "execution_count": 3,
   "metadata": {
    "collapsed": false
   },
   "outputs": [
    {
     "name": "stdout",
     "output_type": "stream",
     "text": [
      "+---------------+---------+----------+--------------------+------------------+----------------+--------------------------------------+------------------------------+-------------------+----------------------------+--------------------------+------------------+---------------------+--------------------------+------------------+----------------+-------------------------+-----------------------------+----------------------------+---------------------------------+--------------------------------+---------------------------------+----------------------------------+--------------------------------------+-------------------------------------+------------------------------------------+-----------------------------------+---------------------------------------+--------------------------------------+-------------------------------------------+-----------------------------------+---------------------------------------+--------------------------------------+-------------------------------------------+-----------------------+---------------------------+-------------------------------+-------------------------------+--------------------------------+------------------------------------+----------------------------------------+---------------------------------+-------------------------------------+-----------------------------------------+---------------------------------+-------------------------------------+-----------------------------------------+-----------------------+---------------------------+-----------------------------------+---------------------------------------+-----------------------+---------------+-------------------+-----------------------+---------------------------+-------------------------+-------------------------------------+----------------------------------------------+-----------------------------------------------+-----------------------------------------------+--------------------------------+-----------------------------------------+------------------------------------------+------------------------------------------+------------------------+\n",
      "|user_account_id|avg(year)|avg(month)|avg(user_account_id)|avg(user_lifetime)|avg(user_intake)|avg(user_no_outgoing_activity_in_days)|avg(user_account_balance_last)|avg(user_spendings)|avg(user_has_outgoing_calls)|avg(user_has_outgoing_sms)|avg(user_use_gprs)|avg(user_does_reload)|avg(reloads_inactive_days)|avg(reloads_count)|avg(reloads_sum)|avg(calls_outgoing_count)|avg(calls_outgoing_spendings)|avg(calls_outgoing_duration)|avg(calls_outgoing_spendings_max)|avg(calls_outgoing_duration_max)|avg(calls_outgoing_inactive_days)|avg(calls_outgoing_to_onnet_count)|avg(calls_outgoing_to_onnet_spendings)|avg(calls_outgoing_to_onnet_duration)|avg(calls_outgoing_to_onnet_inactive_days)|avg(calls_outgoing_to_offnet_count)|avg(calls_outgoing_to_offnet_spendings)|avg(calls_outgoing_to_offnet_duration)|avg(calls_outgoing_to_offnet_inactive_days)|avg(calls_outgoing_to_abroad_count)|avg(calls_outgoing_to_abroad_spendings)|avg(calls_outgoing_to_abroad_duration)|avg(calls_outgoing_to_abroad_inactive_days)|avg(sms_outgoing_count)|avg(sms_outgoing_spendings)|avg(sms_outgoing_spendings_max)|avg(sms_outgoing_inactive_days)|avg(sms_outgoing_to_onnet_count)|avg(sms_outgoing_to_onnet_spendings)|avg(sms_outgoing_to_onnet_inactive_days)|avg(sms_outgoing_to_offnet_count)|avg(sms_outgoing_to_offnet_spendings)|avg(sms_outgoing_to_offnet_inactive_days)|avg(sms_outgoing_to_abroad_count)|avg(sms_outgoing_to_abroad_spendings)|avg(sms_outgoing_to_abroad_inactive_days)|avg(sms_incoming_count)|avg(sms_incoming_spendings)|avg(sms_incoming_from_abroad_count)|avg(sms_incoming_from_abroad_spendings)|avg(gprs_session_count)|avg(gprs_usage)|avg(gprs_spendings)|avg(gprs_inactive_days)|avg(last_100_reloads_count)|avg(last_100_reloads_sum)|avg(last_100_calls_outgoing_duration)|avg(last_100_calls_outgoing_to_onnet_duration)|avg(last_100_calls_outgoing_to_offnet_duration)|avg(last_100_calls_outgoing_to_abroad_duration)|avg(last_100_sms_outgoing_count)|avg(last_100_sms_outgoing_to_onnet_count)|avg(last_100_sms_outgoing_to_offnet_count)|avg(last_100_sms_outgoing_to_abroad_count)|avg(last_100_gprs_usage)|\n",
      "+---------------+---------+----------+--------------------+------------------+----------------+--------------------------------------+------------------------------+-------------------+----------------------------+--------------------------+------------------+---------------------+--------------------------+------------------+----------------+-------------------------+-----------------------------+----------------------------+---------------------------------+--------------------------------+---------------------------------+----------------------------------+--------------------------------------+-------------------------------------+------------------------------------------+-----------------------------------+---------------------------------------+--------------------------------------+-------------------------------------------+-----------------------------------+---------------------------------------+--------------------------------------+-------------------------------------------+-----------------------+---------------------------+-------------------------------+-------------------------------+--------------------------------+------------------------------------+----------------------------------------+---------------------------------+-------------------------------------+-----------------------------------------+---------------------------------+-------------------------------------+-----------------------------------------+-----------------------+---------------------------+-----------------------------------+---------------------------------------+-----------------------+---------------+-------------------+-----------------------+---------------------------+-------------------------+-------------------------------------+----------------------------------------------+-----------------------------------------------+-----------------------------------------------+--------------------------------+-----------------------------------------+------------------------------------------+------------------------------------------+------------------------+\n",
      "|         931806|   2013.0|       7.0|            931806.0|             572.0|             0.0|                    2.6666666666666665|             4.253333333333333|  5.156666666666666|                         1.0|                       1.0|               0.0|                  1.0|        29.666666666666668|               1.0|             8.0|       55.333333333333336|            4.256666666666667|           29.21666666666667|               0.7533333333333333|               5.033333333333333|               2.6666666666666665|                               0.0|                                   0.0|                                  0.0|                        2.6666666666666665|                 23.666666666666668|                      3.956666666666667|                                 26.37|                         2.6666666666666665|                                0.0|                                    0.0|                                   0.0|                         2.6666666666666665|                   16.0|                        0.9|                           0.06|             18.666666666666668|                             0.0|                                 0.0|                      18.666666666666668|                             15.0|                                  0.9|                       18.666666666666668|                              0.0|                                  0.0|                       18.666666666666668|     13.666666666666666|                        0.0|                 0.6666666666666666|                                    0.0|                    0.0|            0.0|                0.0|                 1307.0|         2.6666666666666665|                     16.0|                                 97.7|                                           0.0|                              87.04666666666667|                                            0.0|               92.33333333333333|                                      0.0|                         88.33333333333333|                                       0.0|                     0.0|\n",
      "+---------------+---------+----------+--------------------+------------------+----------------+--------------------------------------+------------------------------+-------------------+----------------------------+--------------------------+------------------+---------------------+--------------------------+------------------+----------------+-------------------------+-----------------------------+----------------------------+---------------------------------+--------------------------------+---------------------------------+----------------------------------+--------------------------------------+-------------------------------------+------------------------------------------+-----------------------------------+---------------------------------------+--------------------------------------+-------------------------------------------+-----------------------------------+---------------------------------------+--------------------------------------+-------------------------------------------+-----------------------+---------------------------+-------------------------------+-------------------------------+--------------------------------+------------------------------------+----------------------------------------+---------------------------------+-------------------------------------+-----------------------------------------+---------------------------------+-------------------------------------+-----------------------------------------+-----------------------+---------------------------+-----------------------------------+---------------------------------------+-----------------------+---------------+-------------------+-----------------------+---------------------------+-------------------------+-------------------------------------+----------------------------------------------+-----------------------------------------------+-----------------------------------------------+--------------------------------+-----------------------------------------+------------------------------------------+------------------------------------------+------------------------+\n",
      "only showing top 1 row\n",
      "\n"
     ]
    }
   ],
   "source": [
    "churn = features.groupby('user_account_id').avg()\n",
    "churn.show(1)"
   ]
  },
  {
   "cell_type": "code",
   "execution_count": 6,
   "metadata": {
    "collapsed": false
   },
   "outputs": [],
   "source": [
    "churn = churn.drop('avg(year)').drop('avg(month)').drop('avg(user_account_id)')"
   ]
  },
  {
   "cell_type": "code",
   "execution_count": 5,
   "metadata": {
    "collapsed": false
   },
   "outputs": [
    {
     "name": "stdout",
     "output_type": "stream",
     "text": [
      "+----+-----+---------------+-----+\n",
      "|year|month|user_account_id|churn|\n",
      "+----+-----+---------------+-----+\n",
      "|2013|    9|         376265|    0|\n",
      "|2013|    9|        1151965|    0|\n",
      "+----+-----+---------------+-----+\n",
      "only showing top 2 rows\n",
      "\n"
     ]
    }
   ],
   "source": [
    "target = sqlContext.sql('select * from target')\n",
    "target.show(2)"
   ]
  },
  {
   "cell_type": "code",
   "execution_count": 7,
   "metadata": {
    "collapsed": false
   },
   "outputs": [
    {
     "name": "stdout",
     "output_type": "stream",
     "text": [
      "+---------------+------------------+----------------+--------------------------------------+------------------------------+-------------------+----------------------------+--------------------------+------------------+---------------------+--------------------------+------------------+----------------+-------------------------+-----------------------------+----------------------------+---------------------------------+--------------------------------+---------------------------------+----------------------------------+--------------------------------------+-------------------------------------+------------------------------------------+-----------------------------------+---------------------------------------+--------------------------------------+-------------------------------------------+-----------------------------------+---------------------------------------+--------------------------------------+-------------------------------------------+-----------------------+---------------------------+-------------------------------+-------------------------------+--------------------------------+------------------------------------+----------------------------------------+---------------------------------+-------------------------------------+-----------------------------------------+---------------------------------+-------------------------------------+-----------------------------------------+-----------------------+---------------------------+-----------------------------------+---------------------------------------+-----------------------+---------------+-------------------+-----------------------+---------------------------+-------------------------+-------------------------------------+----------------------------------------------+-----------------------------------------------+-----------------------------------------------+--------------------------------+-----------------------------------------+------------------------------------------+------------------------------------------+------------------------+----+-----+-----+\n",
      "|user_account_id|avg(user_lifetime)|avg(user_intake)|avg(user_no_outgoing_activity_in_days)|avg(user_account_balance_last)|avg(user_spendings)|avg(user_has_outgoing_calls)|avg(user_has_outgoing_sms)|avg(user_use_gprs)|avg(user_does_reload)|avg(reloads_inactive_days)|avg(reloads_count)|avg(reloads_sum)|avg(calls_outgoing_count)|avg(calls_outgoing_spendings)|avg(calls_outgoing_duration)|avg(calls_outgoing_spendings_max)|avg(calls_outgoing_duration_max)|avg(calls_outgoing_inactive_days)|avg(calls_outgoing_to_onnet_count)|avg(calls_outgoing_to_onnet_spendings)|avg(calls_outgoing_to_onnet_duration)|avg(calls_outgoing_to_onnet_inactive_days)|avg(calls_outgoing_to_offnet_count)|avg(calls_outgoing_to_offnet_spendings)|avg(calls_outgoing_to_offnet_duration)|avg(calls_outgoing_to_offnet_inactive_days)|avg(calls_outgoing_to_abroad_count)|avg(calls_outgoing_to_abroad_spendings)|avg(calls_outgoing_to_abroad_duration)|avg(calls_outgoing_to_abroad_inactive_days)|avg(sms_outgoing_count)|avg(sms_outgoing_spendings)|avg(sms_outgoing_spendings_max)|avg(sms_outgoing_inactive_days)|avg(sms_outgoing_to_onnet_count)|avg(sms_outgoing_to_onnet_spendings)|avg(sms_outgoing_to_onnet_inactive_days)|avg(sms_outgoing_to_offnet_count)|avg(sms_outgoing_to_offnet_spendings)|avg(sms_outgoing_to_offnet_inactive_days)|avg(sms_outgoing_to_abroad_count)|avg(sms_outgoing_to_abroad_spendings)|avg(sms_outgoing_to_abroad_inactive_days)|avg(sms_incoming_count)|avg(sms_incoming_spendings)|avg(sms_incoming_from_abroad_count)|avg(sms_incoming_from_abroad_spendings)|avg(gprs_session_count)|avg(gprs_usage)|avg(gprs_spendings)|avg(gprs_inactive_days)|avg(last_100_reloads_count)|avg(last_100_reloads_sum)|avg(last_100_calls_outgoing_duration)|avg(last_100_calls_outgoing_to_onnet_duration)|avg(last_100_calls_outgoing_to_offnet_duration)|avg(last_100_calls_outgoing_to_abroad_duration)|avg(last_100_sms_outgoing_count)|avg(last_100_sms_outgoing_to_onnet_count)|avg(last_100_sms_outgoing_to_offnet_count)|avg(last_100_sms_outgoing_to_abroad_count)|avg(last_100_gprs_usage)|year|month|churn|\n",
      "+---------------+------------------+----------------+--------------------------------------+------------------------------+-------------------+----------------------------+--------------------------+------------------+---------------------+--------------------------+------------------+----------------+-------------------------+-----------------------------+----------------------------+---------------------------------+--------------------------------+---------------------------------+----------------------------------+--------------------------------------+-------------------------------------+------------------------------------------+-----------------------------------+---------------------------------------+--------------------------------------+-------------------------------------------+-----------------------------------+---------------------------------------+--------------------------------------+-------------------------------------------+-----------------------+---------------------------+-------------------------------+-------------------------------+--------------------------------+------------------------------------+----------------------------------------+---------------------------------+-------------------------------------+-----------------------------------------+---------------------------------+-------------------------------------+-----------------------------------------+-----------------------+---------------------------+-----------------------------------+---------------------------------------+-----------------------+---------------+-------------------+-----------------------+---------------------------+-------------------------+-------------------------------------+----------------------------------------------+-----------------------------------------------+-----------------------------------------------+--------------------------------+-----------------------------------------+------------------------------------------+------------------------------------------+------------------------+----+-----+-----+\n",
      "|         931806|             572.0|             0.0|                    2.6666666666666665|             4.253333333333333|  5.156666666666666|                         1.0|                       1.0|               0.0|                  1.0|        29.666666666666668|               1.0|             8.0|       55.333333333333336|            4.256666666666667|           29.21666666666667|               0.7533333333333333|               5.033333333333333|               2.6666666666666665|                               0.0|                                   0.0|                                  0.0|                        2.6666666666666665|                 23.666666666666668|                      3.956666666666667|                                 26.37|                         2.6666666666666665|                                0.0|                                    0.0|                                   0.0|                         2.6666666666666665|                   16.0|                        0.9|                           0.06|             18.666666666666668|                             0.0|                                 0.0|                      18.666666666666668|                             15.0|                                  0.9|                       18.666666666666668|                              0.0|                                  0.0|                       18.666666666666668|     13.666666666666666|                        0.0|                 0.6666666666666666|                                    0.0|                    0.0|            0.0|                0.0|                 1307.0|         2.6666666666666665|                     16.0|                                 97.7|                                           0.0|                              87.04666666666667|                                            0.0|               92.33333333333333|                                      0.0|                         88.33333333333333|                                       0.0|                     0.0|2013|    9|    0|\n",
      "+---------------+------------------+----------------+--------------------------------------+------------------------------+-------------------+----------------------------+--------------------------+------------------+---------------------+--------------------------+------------------+----------------+-------------------------+-----------------------------+----------------------------+---------------------------------+--------------------------------+---------------------------------+----------------------------------+--------------------------------------+-------------------------------------+------------------------------------------+-----------------------------------+---------------------------------------+--------------------------------------+-------------------------------------------+-----------------------------------+---------------------------------------+--------------------------------------+-------------------------------------------+-----------------------+---------------------------+-------------------------------+-------------------------------+--------------------------------+------------------------------------+----------------------------------------+---------------------------------+-------------------------------------+-----------------------------------------+---------------------------------+-------------------------------------+-----------------------------------------+-----------------------+---------------------------+-----------------------------------+---------------------------------------+-----------------------+---------------+-------------------+-----------------------+---------------------------+-------------------------+-------------------------------------+----------------------------------------------+-----------------------------------------------+-----------------------------------------------+--------------------------------+-----------------------------------------+------------------------------------------+------------------------------------------+------------------------+----+-----+-----+\n",
      "only showing top 1 row\n",
      "\n"
     ]
    }
   ],
   "source": [
    "churn = churn.join(target, 'user_account_id', 'inner')\n",
    "churn.show(1)"
   ]
  },
  {
   "cell_type": "code",
   "execution_count": 8,
   "metadata": {
    "collapsed": true
   },
   "outputs": [],
   "source": [
    "grouped_colnames = churn.schema.names\n",
    "churn = reduce(lambda data, idx: data.withColumnRenamed(grouped_colnames[idx], features_colnames[idx]), xrange(len(features_colnames)), churn)"
   ]
  },
  {
   "cell_type": "code",
   "execution_count": 9,
   "metadata": {
    "collapsed": false
   },
   "outputs": [
    {
     "name": "stdout",
     "output_type": "stream",
     "text": [
      "root\n",
      " |-- user_account_id: integer (nullable = true)\n",
      " |-- user_lifetime: double (nullable = true)\n",
      " |-- user_intake: double (nullable = true)\n",
      " |-- user_no_outgoing_activity_in_days: double (nullable = true)\n",
      " |-- user_account_balance_last: double (nullable = true)\n",
      " |-- user_spendings: double (nullable = true)\n",
      " |-- user_has_outgoing_calls: double (nullable = true)\n",
      " |-- user_has_outgoing_sms: double (nullable = true)\n",
      " |-- user_use_gprs: double (nullable = true)\n",
      " |-- user_does_reload: double (nullable = true)\n",
      " |-- reloads_inactive_days: double (nullable = true)\n",
      " |-- reloads_count: double (nullable = true)\n",
      " |-- reloads_sum: double (nullable = true)\n",
      " |-- calls_outgoing_count: double (nullable = true)\n",
      " |-- calls_outgoing_spendings: double (nullable = true)\n",
      " |-- calls_outgoing_duration: double (nullable = true)\n",
      " |-- calls_outgoing_spendings_max: double (nullable = true)\n",
      " |-- calls_outgoing_duration_max: double (nullable = true)\n",
      " |-- calls_outgoing_inactive_days: double (nullable = true)\n",
      " |-- calls_outgoing_to_onnet_count: double (nullable = true)\n",
      " |-- calls_outgoing_to_onnet_spendings: double (nullable = true)\n",
      " |-- calls_outgoing_to_onnet_duration: double (nullable = true)\n",
      " |-- calls_outgoing_to_onnet_inactive_days: double (nullable = true)\n",
      " |-- calls_outgoing_to_offnet_count: double (nullable = true)\n",
      " |-- calls_outgoing_to_offnet_spendings: double (nullable = true)\n",
      " |-- calls_outgoing_to_offnet_duration: double (nullable = true)\n",
      " |-- calls_outgoing_to_offnet_inactive_days: double (nullable = true)\n",
      " |-- calls_outgoing_to_abroad_count: double (nullable = true)\n",
      " |-- calls_outgoing_to_abroad_spendings: double (nullable = true)\n",
      " |-- calls_outgoing_to_abroad_duration: double (nullable = true)\n",
      " |-- calls_outgoing_to_abroad_inactive_days: double (nullable = true)\n",
      " |-- sms_outgoing_count: double (nullable = true)\n",
      " |-- sms_outgoing_spendings: double (nullable = true)\n",
      " |-- sms_outgoing_spendings_max: double (nullable = true)\n",
      " |-- sms_outgoing_inactive_days: double (nullable = true)\n",
      " |-- sms_outgoing_to_onnet_count: double (nullable = true)\n",
      " |-- sms_outgoing_to_onnet_spendings: double (nullable = true)\n",
      " |-- sms_outgoing_to_onnet_inactive_days: double (nullable = true)\n",
      " |-- sms_outgoing_to_offnet_count: double (nullable = true)\n",
      " |-- sms_outgoing_to_offnet_spendings: double (nullable = true)\n",
      " |-- sms_outgoing_to_offnet_inactive_days: double (nullable = true)\n",
      " |-- sms_outgoing_to_abroad_count: double (nullable = true)\n",
      " |-- sms_outgoing_to_abroad_spendings: double (nullable = true)\n",
      " |-- sms_outgoing_to_abroad_inactive_days: double (nullable = true)\n",
      " |-- sms_incoming_count: double (nullable = true)\n",
      " |-- sms_incoming_spendings: double (nullable = true)\n",
      " |-- sms_incoming_from_abroad_count: double (nullable = true)\n",
      " |-- sms_incoming_from_abroad_spendings: double (nullable = true)\n",
      " |-- gprs_session_count: double (nullable = true)\n",
      " |-- gprs_usage: double (nullable = true)\n",
      " |-- gprs_spendings: double (nullable = true)\n",
      " |-- gprs_inactive_days: double (nullable = true)\n",
      " |-- last_100_reloads_count: double (nullable = true)\n",
      " |-- last_100_reloads_sum: double (nullable = true)\n",
      " |-- last_100_calls_outgoing_duration: double (nullable = true)\n",
      " |-- last_100_calls_outgoing_to_onnet_duration: double (nullable = true)\n",
      " |-- last_100_calls_outgoing_to_offnet_duration: double (nullable = true)\n",
      " |-- last_100_calls_outgoing_to_abroad_duration: double (nullable = true)\n",
      " |-- last_100_sms_outgoing_count: double (nullable = true)\n",
      " |-- last_100_sms_outgoing_to_onnet_count: double (nullable = true)\n",
      " |-- last_100_sms_outgoing_to_offnet_count: double (nullable = true)\n",
      " |-- last_100_sms_outgoing_to_abroad_count: double (nullable = true)\n",
      " |-- last_100_gprs_usage: double (nullable = true)\n",
      " |-- year: integer (nullable = true)\n",
      " |-- month: integer (nullable = true)\n",
      " |-- churn: integer (nullable = true)\n",
      "\n"
     ]
    }
   ],
   "source": [
    "churn.printSchema()"
   ]
  },
  {
   "cell_type": "code",
   "execution_count": 10,
   "metadata": {
    "collapsed": false
   },
   "outputs": [],
   "source": [
    "sqlContext.sql('drop table churn')\n",
    "churn.write.saveAsTable('churn')"
   ]
  },
  {
   "cell_type": "code",
   "execution_count": 12,
   "metadata": {
    "collapsed": false
   },
   "outputs": [
    {
     "name": "stdout",
     "output_type": "stream",
     "text": [
      "+------------------+--------------------------------------+\n",
      "|avg(user_lifetime)|avg(user_no_outgoing_activity_in_days)|\n",
      "+------------------+--------------------------------------+\n",
      "|             572.0|                    2.6666666666666665|\n",
      "+------------------+--------------------------------------+\n",
      "\n",
      "+----+-----+---------------+-----+\n",
      "|year|month|user_account_id|churn|\n",
      "+----+-----+---------------+-----+\n",
      "|2013|    9|         931806|    0|\n",
      "+----+-----+---------------+-----+\n",
      "\n"
     ]
    }
   ],
   "source": [
    "# test join and group\n",
    "features.filter(features.user_account_id == 931806)\\\n",
    "  .agg({\"user_lifetime\": \"avg\", \"user_no_outgoing_activity_in_days\": \"avg\" }).show()\n",
    "target.filter(target.user_account_id == 931806).show()"
   ]
  },
  {
   "cell_type": "code",
   "execution_count": null,
   "metadata": {
    "collapsed": true
   },
   "outputs": [],
   "source": []
  }
 ],
 "metadata": {
  "kernelspec": {
   "display_name": "pyspark",
   "language": "python",
   "name": "pyspark"
  }
 },
 "nbformat": 4,
 "nbformat_minor": 1
}
